{
 "cells": [
  {
   "cell_type": "code",
   "execution_count": 10,
   "metadata": {},
   "outputs": [
    {
     "name": "stdout",
     "output_type": "stream",
     "text": [
      "    Max_BPM  Avg_BPM  Resting_BPM\n",
      "0       180      157           60\n",
      "1       179      151           66\n",
      "2       167      122           54\n",
      "3       190      164           56\n",
      "4       188      158           68\n",
      "5       168      156           74\n",
      "6       174      169           73\n",
      "7       189      141           64\n",
      "8       185      127           52\n",
      "9       169      136           64\n",
      "10      188      146           54\n",
      "11      175      152           72\n",
      "12      195      165           61\n",
      "13      179      136           69\n",
      "14      196      161           54\n",
      "15      181      131           52\n",
      "16      166      167           58\n",
      "17      182      165           58\n",
      "18      199      146           56\n",
      "19      188      167           51\n",
      "20      175      127           72\n",
      "21      197      142           72\n",
      "22      187      161           70\n",
      "23      197      168           65\n",
      "24      190      148           58\n",
      "25      173      169           62\n",
      "26      192      139           68\n",
      "27      168      135           69\n",
      "28      186      136           66\n",
      "29      183      135           55\n",
      "30      172      138           53\n",
      "31      185      127           50\n",
      "32      188      157           67\n",
      "33      187      157           68\n",
      "34      187      148           58\n",
      "35      167      160           62\n",
      "36      182      155           57\n",
      "37      188      145           72\n",
      "38      164      150           62\n",
      "39      166      163           64\n",
      "40      195      131           60\n",
      "41      186      136           61\n",
      "42      161      134           63\n",
      "43      184      128           53\n",
      "44      168      158           50\n",
      "45      186      161           73\n",
      "46      160      167           53\n",
      "47      182      131           68\n",
      "48      169      151           58\n",
      "49      184      144           59\n"
     ]
    }
   ],
   "source": [
    "import pandas as pd\n",
    "df = pd.read_csv('gym_members_exercise_tracking.csv')\n",
    "df.head()\n",
    "#df.iloc[4:7]\n",
    "filtered_coloum = df[['Max_BPM','Avg_BPM','Resting_BPM']]\n",
    "print(filtered_coloum.head(50))"
   ]
  }
 ],
 "metadata": {
  "kernelspec": {
   "display_name": ".venv",
   "language": "python",
   "name": "python3"
  },
  "language_info": {
   "codemirror_mode": {
    "name": "ipython",
    "version": 3
   },
   "file_extension": ".py",
   "mimetype": "text/x-python",
   "name": "python",
   "nbconvert_exporter": "python",
   "pygments_lexer": "ipython3",
   "version": "3.11.2"
  }
 },
 "nbformat": 4,
 "nbformat_minor": 2
}
