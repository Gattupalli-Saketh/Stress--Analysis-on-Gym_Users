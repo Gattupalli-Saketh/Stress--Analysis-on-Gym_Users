{
 "cells": [
  {
   "cell_type": "code",
   "execution_count": 1,
   "metadata": {},
   "outputs": [
    {
     "name": "stdout",
     "output_type": "stream",
     "text": [
      "Collecting pandas\n",
      "  Downloading pandas-2.2.3-cp311-cp311-win_amd64.whl.metadata (19 kB)\n",
      "Collecting numpy>=1.23.2 (from pandas)\n",
      "  Downloading numpy-2.1.3-cp311-cp311-win_amd64.whl.metadata (60 kB)\n",
      "Requirement already satisfied: python-dateutil>=2.8.2 in c:\\users\\gattupalli saketh\\onedrive\\desktop\\stress_analysis.ipynb\\.venv\\lib\\site-packages (from pandas) (2.9.0.post0)\n",
      "Collecting pytz>=2020.1 (from pandas)\n",
      "  Downloading pytz-2024.2-py2.py3-none-any.whl.metadata (22 kB)\n",
      "Collecting tzdata>=2022.7 (from pandas)\n",
      "  Downloading tzdata-2024.2-py2.py3-none-any.whl.metadata (1.4 kB)\n",
      "Requirement already satisfied: six>=1.5 in c:\\users\\gattupalli saketh\\onedrive\\desktop\\stress_analysis.ipynb\\.venv\\lib\\site-packages (from python-dateutil>=2.8.2->pandas) (1.16.0)\n",
      "Downloading pandas-2.2.3-cp311-cp311-win_amd64.whl (11.6 MB)\n",
      "   ---------------------------------------- 0.0/11.6 MB ? eta -:--:--\n",
      "   -- ------------------------------------- 0.8/11.6 MB 4.2 MB/s eta 0:00:03\n",
      "   ----- ---------------------------------- 1.6/11.6 MB 4.2 MB/s eta 0:00:03\n",
      "   -------- ------------------------------- 2.4/11.6 MB 3.9 MB/s eta 0:00:03\n",
      "   --------- ------------------------------ 2.6/11.6 MB 3.4 MB/s eta 0:00:03\n",
      "   --------- ------------------------------ 2.9/11.6 MB 2.8 MB/s eta 0:00:04\n",
      "   ------------- -------------------------- 3.9/11.6 MB 3.2 MB/s eta 0:00:03\n",
      "   --------------- ------------------------ 4.5/11.6 MB 3.1 MB/s eta 0:00:03\n",
      "   ------------------ --------------------- 5.2/11.6 MB 3.1 MB/s eta 0:00:03\n",
      "   ------------------- -------------------- 5.8/11.6 MB 3.2 MB/s eta 0:00:02\n",
      "   ----------------------- ---------------- 6.8/11.6 MB 3.4 MB/s eta 0:00:02\n",
      "   ------------------------- -------------- 7.3/11.6 MB 3.2 MB/s eta 0:00:02\n",
      "   --------------------------- ------------ 7.9/11.6 MB 3.3 MB/s eta 0:00:02\n",
      "   ----------------------------- ---------- 8.7/11.6 MB 3.2 MB/s eta 0:00:01\n",
      "   -------------------------------- ------- 9.4/11.6 MB 3.2 MB/s eta 0:00:01\n",
      "   ---------------------------------- ----- 10.0/11.6 MB 3.2 MB/s eta 0:00:01\n",
      "   ------------------------------------- -- 10.7/11.6 MB 3.2 MB/s eta 0:00:01\n",
      "   ------------------------------------- -- 11.0/11.6 MB 3.2 MB/s eta 0:00:01\n",
      "   ---------------------------------------- 11.6/11.6 MB 3.1 MB/s eta 0:00:00\n",
      "Downloading numpy-2.1.3-cp311-cp311-win_amd64.whl (12.9 MB)\n",
      "   ---------------------------------------- 0.0/12.9 MB ? eta -:--:--\n",
      "   -- ------------------------------------- 0.8/12.9 MB 4.8 MB/s eta 0:00:03\n",
      "   ---- ----------------------------------- 1.6/12.9 MB 4.6 MB/s eta 0:00:03\n",
      "   ------- -------------------------------- 2.4/12.9 MB 4.1 MB/s eta 0:00:03\n",
      "   -------- ------------------------------- 2.6/12.9 MB 3.9 MB/s eta 0:00:03\n",
      "   -------- ------------------------------- 2.6/12.9 MB 3.9 MB/s eta 0:00:03\n",
      "   -------- ------------------------------- 2.9/12.9 MB 2.3 MB/s eta 0:00:05\n",
      "   ------------- -------------------------- 4.2/12.9 MB 3.0 MB/s eta 0:00:03\n",
      "   -------------- ------------------------- 4.7/12.9 MB 2.9 MB/s eta 0:00:03\n",
      "   ----------------- ---------------------- 5.5/12.9 MB 3.0 MB/s eta 0:00:03\n",
      "   ------------------ --------------------- 6.0/12.9 MB 3.1 MB/s eta 0:00:03\n",
      "   --------------------- ------------------ 6.8/12.9 MB 3.0 MB/s eta 0:00:02\n",
      "   ----------------------- ---------------- 7.6/12.9 MB 3.1 MB/s eta 0:00:02\n",
      "   ------------------------- -------------- 8.1/12.9 MB 3.0 MB/s eta 0:00:02\n",
      "   -------------------------- ------------- 8.7/12.9 MB 3.0 MB/s eta 0:00:02\n",
      "   ---------------------------- ----------- 9.2/12.9 MB 3.0 MB/s eta 0:00:02\n",
      "   ------------------------------ --------- 9.7/12.9 MB 3.0 MB/s eta 0:00:02\n",
      "   ------------------------------- -------- 10.2/12.9 MB 2.9 MB/s eta 0:00:01\n",
      "   --------------------------------- ------ 10.7/12.9 MB 2.9 MB/s eta 0:00:01\n",
      "   ----------------------------------- ---- 11.5/12.9 MB 2.9 MB/s eta 0:00:01\n",
      "   ------------------------------------- -- 12.1/12.9 MB 3.0 MB/s eta 0:00:01\n",
      "   ---------------------------------------  12.6/12.9 MB 3.0 MB/s eta 0:00:01\n",
      "   ---------------------------------------- 12.9/12.9 MB 2.9 MB/s eta 0:00:00\n",
      "Downloading pytz-2024.2-py2.py3-none-any.whl (508 kB)\n",
      "Downloading tzdata-2024.2-py2.py3-none-any.whl (346 kB)\n",
      "Installing collected packages: pytz, tzdata, numpy, pandas\n",
      "Successfully installed numpy-2.1.3 pandas-2.2.3 pytz-2024.2 tzdata-2024.2\n",
      "Note: you may need to restart the kernel to use updated packages.\n"
     ]
    }
   ],
   "source": [
    "\n",
    "pip install pandas\n"
   ]
  },
  {
   "cell_type": "code",
   "execution_count": 2,
   "metadata": {},
   "outputs": [
    {
     "name": "stdout",
     "output_type": "stream",
     "text": [
      "Requirement already satisfied: numpy in c:\\users\\gattupalli saketh\\onedrive\\desktop\\stress_analysis.ipynb\\.venv\\lib\\site-packages (2.1.3)Note: you may need to restart the kernel to use updated packages.\n",
      "\n"
     ]
    }
   ],
   "source": [
    "pip install numpy"
   ]
  },
  {
   "cell_type": "code",
   "execution_count": null,
   "metadata": {},
   "outputs": [],
   "source": []
  }
 ],
 "metadata": {
  "kernelspec": {
   "display_name": ".venv",
   "language": "python",
   "name": "python3"
  },
  "language_info": {
   "codemirror_mode": {
    "name": "ipython",
    "version": 3
   },
   "file_extension": ".py",
   "mimetype": "text/x-python",
   "name": "python",
   "nbconvert_exporter": "python",
   "pygments_lexer": "ipython3",
   "version": "3.11.2"
  }
 },
 "nbformat": 4,
 "nbformat_minor": 2
}
