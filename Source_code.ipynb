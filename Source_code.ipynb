{
 "cells": [
  {
   "cell_type": "code",
   "execution_count": 4,
   "metadata": {},
   "outputs": [
    {
     "name": "stdout",
     "output_type": "stream",
     "text": [
      "   S.No  Max_BPM  Avg_BPM  Resting_BPM  weight  Fat_Percentage\n",
      "0     1      180      157           60    88.3            12.6\n",
      "1     2      179      151           66    74.9            33.9\n",
      "2     3      167      122           54    68.1            33.4\n",
      "3     4      190      164           56    53.2            28.8\n",
      "4     5      188      158           68    46.1            29.2\n"
     ]
    },
    {
     "name": "stdout",
     "output_type": "stream",
     "text": [
      "Heart Rate Data for Serial Number 3:\n",
      "Max BPM: 167\n",
      "Avg BPM: 122\n",
      "Resting BPM: 54\n",
      "Weight: 68.1 kg\n",
      "Fat Percentage: 33.4%\n",
      "Body Mass: 22.75\n",
      "Calculated Stress Level: 183.27\n"
     ]
    }
   ],
   "source": [
    "import pandas as pd\n",
    "\n",
    "df = pd.read_csv('gym_members_exercise_tracking.csv')\n",
    "df['S.No'] = range(1, len(df) + 1)\n",
    "filtered_column = df[['S.No', 'Max_BPM', 'Avg_BPM', 'Resting_BPM', 'Weight (kg)', 'Fat_Percentage']].rename(columns={'Weight (kg)': 'weight'})\n",
    "print(filtered_column.head())\n",
    "\n",
    "def cal_mass(weight, Fat_percentage):\n",
    "    return weight * (Fat_percentage/100)\n",
    "\n",
    "def cal_stress(max_bpm, avg_bpm, res_bpm, body_mass, weight, Fat_percentage):\n",
    "    stress = (max_bpm - res_bpm) + (avg_bpm - res_bpm) + (body_mass / 10)\n",
    "    return stress\n",
    "\n",
    "def display_data_stress(Serial_num):\n",
    "    if 1 <= Serial_num <= len(df):\n",
    "        mem_data = df[df['S.No'] == Serial_num].iloc[0]\n",
    "\n",
    "        max_bpm = mem_data['Max_BPM']\n",
    "        avg_bpm = mem_data['Avg_BPM']\n",
    "        res_bpm = mem_data['Resting_BPM']\n",
    "        weight = mem_data['Weight (kg)']  # Use the original column name\n",
    "        Fat_percentage = mem_data['Fat_Percentage']\n",
    "\n",
    "        # Calculate body mass first\n",
    "        body_mass = cal_mass(weight, Fat_percentage)\n",
    "\n",
    "        # Pass body_mass to cal_stress\n",
    "        stress_level = cal_stress(max_bpm, avg_bpm, res_bpm, body_mass, weight, Fat_percentage)\n",
    "        \n",
    "        print(f\"Heart Rate Data for Serial Number {Serial_num}:\")\n",
    "        print(f\"Max BPM: {max_bpm}\")\n",
    "        print(f\"Avg BPM: {avg_bpm}\")\n",
    "        print(f\"Resting BPM: {res_bpm}\")\n",
    "        print(f\"Weight: {weight} kg\")\n",
    "        print(f\"Fat Percentage: {Fat_percentage}%\")\n",
    "        print(f\"Body Mass: {body_mass:.2f}\")\n",
    "        print(f\"Calculated Stress Level: {stress_level:.2f}\")\n",
    "    else:\n",
    "        print(f\"Invalid serial number: {Serial_num}. Please enter a number between 1 and {len(df)}.\")\n",
    "\n",
    "if __name__ == \"__main__\":\n",
    "    try:\n",
    "        user_input_serial = int(input(\"Enter The ID of user: \"))\n",
    "        display_data_stress(user_input_serial)\n",
    "\n",
    "    except ValueError:\n",
    "        print(\"Enter a valid ID\")"
   ]
  }
 ],
 "metadata": {
  "kernelspec": {
   "display_name": ".venv",
   "language": "python",
   "name": "python3"
  },
  "language_info": {
   "codemirror_mode": {
    "name": "ipython",
    "version": 3
   },
   "file_extension": ".py",
   "mimetype": "text/x-python",
   "name": "python",
   "nbconvert_exporter": "python",
   "pygments_lexer": "ipython3",
   "version": "3.11.2"
  }
 },
 "nbformat": 4,
 "nbformat_minor": 2
}
